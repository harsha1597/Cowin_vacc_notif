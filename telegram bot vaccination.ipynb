{
 "cells": [
  {
   "cell_type": "code",
   "execution_count": 4,
   "metadata": {},
   "outputs": [],
   "source": [
    "#!pip install cowin --user"
   ]
  },
  {
   "cell_type": "code",
   "execution_count": 38,
   "metadata": {},
   "outputs": [
    {
     "name": "stdout",
     "output_type": "stream",
     "text": [
      "Collecting fuzzywuzzy\n",
      "  Downloading fuzzywuzzy-0.18.0-py2.py3-none-any.whl (18 kB)\n",
      "Installing collected packages: fuzzywuzzy\n",
      "Successfully installed fuzzywuzzy-0.18.0\n"
     ]
    }
   ],
   "source": [
    "#!pip install fuzzywuzzy"
   ]
  },
  {
   "cell_type": "code",
   "execution_count": 5,
   "metadata": {},
   "outputs": [],
   "source": [
    "#!pip install python-telegram-bot"
   ]
  },
  {
   "cell_type": "code",
   "execution_count": 1,
   "metadata": {},
   "outputs": [
    {
     "name": "stderr",
     "output_type": "stream",
     "text": [
      "C:\\ProgramData\\Anaconda3\\lib\\site-packages\\fuzzywuzzy\\fuzz.py:11: UserWarning: Using slow pure-python SequenceMatcher. Install python-Levenshtein to remove this warning\n",
      "  warnings.warn('Using slow pure-python SequenceMatcher. Install python-Levenshtein to remove this warning')\n"
     ]
    }
   ],
   "source": [
    "from cowin_api import CoWinAPI\n",
    "import pandas as pd\n",
    "from fuzzywuzzy import process\n",
    "from fuzzywuzzy.fuzz import partial_token_sort_ratio\n",
    "import telegram\n",
    "from telegram.ext import Updater\n",
    "import logging\n",
    "from telegram.ext import CommandHandler\n",
    "from telegram.ext import MessageHandler, Filters"
   ]
  },
  {
   "cell_type": "code",
   "execution_count": 2,
   "metadata": {},
   "outputs": [],
   "source": [
    "cowin = CoWinAPI()"
   ]
  },
  {
   "cell_type": "code",
   "execution_count": 3,
   "metadata": {},
   "outputs": [],
   "source": [
    "states = cowin.get_states()\n",
    "#print(states)"
   ]
  },
  {
   "cell_type": "code",
   "execution_count": 4,
   "metadata": {},
   "outputs": [],
   "source": [
    "state_dict={}\n",
    "for x in states['states']:\n",
    "    state_dict[x['state_name']] = x['state_id']\n",
    "#state_dict\n",
    "#Ktaka = state_id =16"
   ]
  },
  {
   "cell_type": "code",
   "execution_count": 8,
   "metadata": {},
   "outputs": [
    {
     "name": "stdout",
     "output_type": "stream",
     "text": [
      "{'districts': [{'district_id': 270, 'district_name': 'Bagalkot'}, {'district_id': 276, 'district_name': 'Bangalore Rural'}, {'district_id': 265, 'district_name': 'Bangalore Urban'}, {'district_id': 294, 'district_name': 'BBMP'}, {'district_id': 264, 'district_name': 'Belgaum'}, {'district_id': 274, 'district_name': 'Bellary'}, {'district_id': 272, 'district_name': 'Bidar'}, {'district_id': 271, 'district_name': 'Chamarajanagar'}, {'district_id': 273, 'district_name': 'Chikamagalur'}, {'district_id': 291, 'district_name': 'Chikkaballapur'}, {'district_id': 268, 'district_name': 'Chitradurga'}, {'district_id': 269, 'district_name': 'Dakshina Kannada'}, {'district_id': 275, 'district_name': 'Davanagere'}, {'district_id': 278, 'district_name': 'Dharwad'}, {'district_id': 280, 'district_name': 'Gadag'}, {'district_id': 267, 'district_name': 'Gulbarga'}, {'district_id': 289, 'district_name': 'Hassan'}, {'district_id': 279, 'district_name': 'Haveri'}, {'district_id': 283, 'district_name': 'Kodagu'}, {'district_id': 277, 'district_name': 'Kolar'}, {'district_id': 282, 'district_name': 'Koppal'}, {'district_id': 290, 'district_name': 'Mandya'}, {'district_id': 266, 'district_name': 'Mysore'}, {'district_id': 284, 'district_name': 'Raichur'}, {'district_id': 292, 'district_name': 'Ramanagara'}, {'district_id': 287, 'district_name': 'Shimoga'}, {'district_id': 288, 'district_name': 'Tumkur'}, {'district_id': 286, 'district_name': 'Udupi'}, {'district_id': 281, 'district_name': 'Uttar Kannada'}, {'district_id': 293, 'district_name': 'Vijayapura'}, {'district_id': 285, 'district_name': 'Yadgir'}], 'ttl': 24}\n"
     ]
    }
   ],
   "source": [
    "state_id = 16\n",
    "districts = cowin.get_districts(state_id)\n",
    "print(districts)"
   ]
  },
  {
   "cell_type": "code",
   "execution_count": 9,
   "metadata": {},
   "outputs": [],
   "source": [
    "dist_dict={}\n",
    "for y in districts['districts']:\n",
    "    dist_dict[y['district_name']] = y['district_id']\n",
    "#dist_dict\n",
    "# BBMP = 294, 'Bangalore Rural': 276, 'Bangalore Urban': 265 "
   ]
  },
  {
   "cell_type": "code",
   "execution_count": 10,
   "metadata": {},
   "outputs": [],
   "source": [
    "district_id = 294\n",
    "date = '10-05-2021'\n",
    "available_centers = cowin.get_availability_by_district(district_id,date)\n",
    "#print(available_centers)"
   ]
  },
  {
   "cell_type": "code",
   "execution_count": 75,
   "metadata": {},
   "outputs": [],
   "source": [
    "#available_centers"
   ]
  },
  {
   "cell_type": "code",
   "execution_count": 11,
   "metadata": {},
   "outputs": [],
   "source": [
    "def get_available_centers_only(all_centers):\n",
    "    avail_centers=[]\n",
    "    for center in all_centers['centers']:\n",
    "        for x in center['sessions']:\n",
    "            avail = 0\n",
    "            if x['available_capacity']!=0:\n",
    "                avail=1\n",
    "                break\n",
    "        if avail == 1:\n",
    "            avail_centers.append(center)\n",
    "    return avail_centers\n",
    "            "
   ]
  },
  {
   "cell_type": "code",
   "execution_count": 12,
   "metadata": {},
   "outputs": [],
   "source": [
    "available_centers_filter = get_available_centers_only(available_centers)"
   ]
  },
  {
   "cell_type": "code",
   "execution_count": 14,
   "metadata": {},
   "outputs": [
    {
     "data": {
      "text/html": [
       "<div>\n",
       "<style scoped>\n",
       "    .dataframe tbody tr th:only-of-type {\n",
       "        vertical-align: middle;\n",
       "    }\n",
       "\n",
       "    .dataframe tbody tr th {\n",
       "        vertical-align: top;\n",
       "    }\n",
       "\n",
       "    .dataframe thead th {\n",
       "        text-align: right;\n",
       "    }\n",
       "</style>\n",
       "<table border=\"1\" class=\"dataframe\">\n",
       "  <thead>\n",
       "    <tr style=\"text-align: right;\">\n",
       "      <th></th>\n",
       "      <th>name</th>\n",
       "      <th>address</th>\n",
       "      <th>state_name</th>\n",
       "      <th>district_name</th>\n",
       "      <th>block_name</th>\n",
       "      <th>pincode</th>\n",
       "      <th>lat</th>\n",
       "      <th>long</th>\n",
       "      <th>from</th>\n",
       "      <th>to</th>\n",
       "      <th>fee_type</th>\n",
       "      <th>sessions</th>\n",
       "      <th>vaccine_fees</th>\n",
       "    </tr>\n",
       "    <tr>\n",
       "      <th>center_id</th>\n",
       "      <th></th>\n",
       "      <th></th>\n",
       "      <th></th>\n",
       "      <th></th>\n",
       "      <th></th>\n",
       "      <th></th>\n",
       "      <th></th>\n",
       "      <th></th>\n",
       "      <th></th>\n",
       "      <th></th>\n",
       "      <th></th>\n",
       "      <th></th>\n",
       "      <th></th>\n",
       "    </tr>\n",
       "  </thead>\n",
       "  <tbody>\n",
       "    <tr>\n",
       "      <th>418418</th>\n",
       "      <td>Nethaji Circle UPHC</td>\n",
       "      <td>Near BBMP 36 Ward Office Netaji Circle</td>\n",
       "      <td>Karnataka</td>\n",
       "      <td>BBMP</td>\n",
       "      <td>West</td>\n",
       "      <td>560054</td>\n",
       "      <td>13</td>\n",
       "      <td>77</td>\n",
       "      <td>10:00:00</td>\n",
       "      <td>17:00:00</td>\n",
       "      <td>Free</td>\n",
       "      <td>[{'session_id': 'a8a54a32-cd56-4646-86e0-d3998...</td>\n",
       "      <td>NaN</td>\n",
       "    </tr>\n",
       "  </tbody>\n",
       "</table>\n",
       "</div>"
      ],
      "text/plain": [
       "                          name                                 address  \\\n",
       "center_id                                                                \n",
       "418418     Nethaji Circle UPHC  Near BBMP 36 Ward Office Netaji Circle   \n",
       "\n",
       "          state_name district_name block_name  pincode  lat  long      from  \\\n",
       "center_id                                                                     \n",
       "418418     Karnataka          BBMP       West   560054   13    77  10:00:00   \n",
       "\n",
       "                 to fee_type  \\\n",
       "center_id                      \n",
       "418418     17:00:00     Free   \n",
       "\n",
       "                                                    sessions vaccine_fees  \n",
       "center_id                                                                  \n",
       "418418     [{'session_id': 'a8a54a32-cd56-4646-86e0-d3998...          NaN  "
      ]
     },
     "execution_count": 14,
     "metadata": {},
     "output_type": "execute_result"
    }
   ],
   "source": [
    "df_all = pd.DataFrame(available_centers['centers']).set_index(\"center_id\")\n",
    "df_all.head(1)"
   ]
  },
  {
   "cell_type": "code",
   "execution_count": 15,
   "metadata": {},
   "outputs": [
    {
     "data": {
      "text/html": [
       "<div>\n",
       "<style scoped>\n",
       "    .dataframe tbody tr th:only-of-type {\n",
       "        vertical-align: middle;\n",
       "    }\n",
       "\n",
       "    .dataframe tbody tr th {\n",
       "        vertical-align: top;\n",
       "    }\n",
       "\n",
       "    .dataframe thead th {\n",
       "        text-align: right;\n",
       "    }\n",
       "</style>\n",
       "<table border=\"1\" class=\"dataframe\">\n",
       "  <thead>\n",
       "    <tr style=\"text-align: right;\">\n",
       "      <th></th>\n",
       "      <th>name</th>\n",
       "      <th>address</th>\n",
       "      <th>state_name</th>\n",
       "      <th>district_name</th>\n",
       "      <th>block_name</th>\n",
       "      <th>pincode</th>\n",
       "      <th>lat</th>\n",
       "      <th>long</th>\n",
       "      <th>from</th>\n",
       "      <th>to</th>\n",
       "      <th>fee_type</th>\n",
       "      <th>sessions</th>\n",
       "    </tr>\n",
       "    <tr>\n",
       "      <th>center_id</th>\n",
       "      <th></th>\n",
       "      <th></th>\n",
       "      <th></th>\n",
       "      <th></th>\n",
       "      <th></th>\n",
       "      <th></th>\n",
       "      <th></th>\n",
       "      <th></th>\n",
       "      <th></th>\n",
       "      <th></th>\n",
       "      <th></th>\n",
       "      <th></th>\n",
       "    </tr>\n",
       "  </thead>\n",
       "  <tbody>\n",
       "    <tr>\n",
       "      <th>418351</th>\n",
       "      <td>Hosahalli UPHC</td>\n",
       "      <td>4th Cross,M C Layout</td>\n",
       "      <td>Karnataka</td>\n",
       "      <td>BBMP</td>\n",
       "      <td>West</td>\n",
       "      <td>560040</td>\n",
       "      <td>12</td>\n",
       "      <td>77</td>\n",
       "      <td>22:30:00</td>\n",
       "      <td>05:30:00</td>\n",
       "      <td>Free</td>\n",
       "      <td>[{'session_id': '3d9bc175-7a27-4d25-8856-8f412...</td>\n",
       "    </tr>\n",
       "  </tbody>\n",
       "</table>\n",
       "</div>"
      ],
      "text/plain": [
       "                     name               address state_name district_name  \\\n",
       "center_id                                                                  \n",
       "418351     Hosahalli UPHC  4th Cross,M C Layout  Karnataka          BBMP   \n",
       "\n",
       "          block_name  pincode  lat  long      from        to fee_type  \\\n",
       "center_id                                                               \n",
       "418351          West   560040   12    77  22:30:00  05:30:00     Free   \n",
       "\n",
       "                                                    sessions  \n",
       "center_id                                                     \n",
       "418351     [{'session_id': '3d9bc175-7a27-4d25-8856-8f412...  "
      ]
     },
     "execution_count": 15,
     "metadata": {},
     "output_type": "execute_result"
    }
   ],
   "source": [
    "df_filter = pd.DataFrame(available_centers_filter).set_index(\"center_id\")\n",
    "df_filter.head(1)"
   ]
  },
  {
   "cell_type": "code",
   "execution_count": 18,
   "metadata": {},
   "outputs": [],
   "source": [
    "#df_filter.iloc[-1,-1]"
   ]
  },
  {
   "cell_type": "code",
   "execution_count": 19,
   "metadata": {},
   "outputs": [
    {
     "name": "stdout",
     "output_type": "stream",
     "text": [
      "K C Gen Hospital\n",
      "Laggere UPHC\n"
     ]
    }
   ],
   "source": [
    "for x in process.extract(\"malleshwaram\", df_all['address'], limit=2,scorer =partial_token_sort_ratio):\n",
    "    print(df_all.loc[x[2],'name'])"
   ]
  },
  {
   "cell_type": "markdown",
   "metadata": {},
   "source": [
    "### Create bot"
   ]
  },
  {
   "cell_type": "code",
   "execution_count": 20,
   "metadata": {},
   "outputs": [],
   "source": [
    "with open(\"cowin_api_key.txt\") as f:\n",
    "    token= f.read()\n"
   ]
  },
  {
   "cell_type": "code",
   "execution_count": 21,
   "metadata": {},
   "outputs": [],
   "source": [
    "\n",
    "\n",
    "bot = telegram.Bot(token=token)"
   ]
  },
  {
   "cell_type": "code",
   "execution_count": 22,
   "metadata": {},
   "outputs": [
    {
     "name": "stdout",
     "output_type": "stream",
     "text": [
      "{'id': 1897412321, 'first_name': 'COWIN_VACC_NOTIFY', 'is_bot': True, 'username': 'COWIN_VACC_NOTIFY_bot', 'can_join_groups': True, 'can_read_all_group_messages': False, 'supports_inline_queries': False}\n"
     ]
    }
   ],
   "source": [
    "#Check connection\n",
    "print(bot.get_me())"
   ]
  },
  {
   "cell_type": "code",
   "execution_count": 23,
   "metadata": {},
   "outputs": [],
   "source": [
    "updater = Updater(token=token, use_context=True)"
   ]
  },
  {
   "cell_type": "code",
   "execution_count": 24,
   "metadata": {},
   "outputs": [],
   "source": [
    "dispatcher = updater.dispatcher"
   ]
  },
  {
   "cell_type": "code",
   "execution_count": 25,
   "metadata": {},
   "outputs": [],
   "source": [
    "logging.basicConfig(format='%(asctime)s - %(name)s - %(levelname)s - %(message)s',\n",
    "                     level=logging.INFO)"
   ]
  },
  {
   "cell_type": "code",
   "execution_count": 26,
   "metadata": {},
   "outputs": [],
   "source": [
    "def start(update, context):\n",
    "    context.bot.send_message(chat_id=update.effective_chat.id, text=\"I'm a bot, please talk to me!\")"
   ]
  },
  {
   "cell_type": "code",
   "execution_count": 27,
   "metadata": {},
   "outputs": [],
   "source": [
    "\n",
    "start_handler = CommandHandler('start', start)\n",
    "dispatcher.add_handler(start_handler)"
   ]
  },
  {
   "cell_type": "code",
   "execution_count": 28,
   "metadata": {},
   "outputs": [],
   "source": [
    "def echo(update, context):\n",
    "    context.bot.send_message(chat_id=update.effective_chat.id, text=update.message.text)"
   ]
  },
  {
   "cell_type": "code",
   "execution_count": 29,
   "metadata": {},
   "outputs": [],
   "source": [
    "\n",
    "echo_handler = MessageHandler(Filters.text & (~Filters.command), echo)\n",
    "dispatcher.add_handler(echo_handler)"
   ]
  },
  {
   "cell_type": "code",
   "execution_count": 30,
   "metadata": {},
   "outputs": [
    {
     "data": {
      "text/plain": [
       "\"def caps(update, context):\\n    text_caps = ' '.join(context.args).upper()\\n    context.bot.send_message(chat_id=update.effective_chat.id, text=text_caps)\""
      ]
     },
     "execution_count": 30,
     "metadata": {},
     "output_type": "execute_result"
    }
   ],
   "source": [
    "\"\"\"def caps(update, context):\n",
    "    text_caps = ' '.join(context.args).upper()\n",
    "    context.bot.send_message(chat_id=update.effective_chat.id, text=text_caps)\"\"\""
   ]
  },
  {
   "cell_type": "code",
   "execution_count": 31,
   "metadata": {},
   "outputs": [],
   "source": [
    "def vacc_near_me(update, context):\n",
    "    #text_caps = ' '.join(context.args).upper()\n",
    "    for x in process.extract(context.args, df_all['address'], limit=2,scorer =partial_token_sort_ratio):\n",
    "        text = df_all.loc[x[2],'name']\n",
    "    context.bot.send_message(chat_id=update.effective_chat.id, text=text)\n",
    "\n",
    "vacc_near_me = CommandHandler('vacc_near_me', vacc_near_me)\n",
    "dispatcher.add_handler(vacc_near_me)"
   ]
  },
  {
   "cell_type": "code",
   "execution_count": 114,
   "metadata": {},
   "outputs": [
    {
     "data": {
      "text/plain": [
       "[('Kodigehalli Main Road', 62, 407005),\n",
       " ('VANIVILLAS HOSPITAL ROAD, SULTAN ROAD, KALASIPALYA', 50, 634261)]"
      ]
     },
     "execution_count": 114,
     "metadata": {},
     "output_type": "execute_result"
    }
   ],
   "source": [
    "process.extract(\"hulimavu\", df_all['address'], limit=2,scorer =partial_token_sort_ratio)\n"
   ]
  },
  {
   "cell_type": "code",
   "execution_count": 32,
   "metadata": {},
   "outputs": [
    {
     "name": "stderr",
     "output_type": "stream",
     "text": [
      "2021-05-08 14:44:18,827 - apscheduler.scheduler - INFO - Scheduler started\n"
     ]
    },
    {
     "data": {
      "text/plain": [
       "<queue.Queue at 0x1fd6fed9130>"
      ]
     },
     "execution_count": 32,
     "metadata": {},
     "output_type": "execute_result"
    },
    {
     "name": "stderr",
     "output_type": "stream",
     "text": [
      "2021-05-08 14:45:05,495 - telegram.ext.dispatcher - ERROR - No error handlers are registered, logging exception.\n",
      "Traceback (most recent call last):\n",
      "  File \"C:\\ProgramData\\Anaconda3\\lib\\site-packages\\telegram\\ext\\dispatcher.py\", line 447, in process_update\n",
      "    handler.handle_update(update, self, check, context)\n",
      "  File \"C:\\ProgramData\\Anaconda3\\lib\\site-packages\\telegram\\ext\\handler.py\", line 160, in handle_update\n",
      "    return self.callback(update, context)\n",
      "  File \"<ipython-input-31-8961cf8a3a31>\", line 3, in vacc_near_me\n",
      "    for x in process.extract(context.args, df_all['address'], limit=2,scorer =partial_token_sort_ratio):\n",
      "  File \"C:\\ProgramData\\Anaconda3\\lib\\site-packages\\fuzzywuzzy\\process.py\", line 168, in extract\n",
      "    return heapq.nlargest(limit, sl, key=lambda i: i[1]) if limit is not None else \\\n",
      "  File \"C:\\ProgramData\\Anaconda3\\lib\\heapq.py\", line 563, in nlargest\n",
      "    result = [(key(elem), i, elem) for i, elem in zip(range(0, -n, -1), it)]\n",
      "  File \"C:\\ProgramData\\Anaconda3\\lib\\heapq.py\", line 563, in <listcomp>\n",
      "    result = [(key(elem), i, elem) for i, elem in zip(range(0, -n, -1), it)]\n",
      "  File \"C:\\ProgramData\\Anaconda3\\lib\\site-packages\\fuzzywuzzy\\process.py\", line 78, in extractWithoutOrder\n",
      "    processed_query = processor(query)\n",
      "  File \"C:\\ProgramData\\Anaconda3\\lib\\site-packages\\fuzzywuzzy\\utils.py\", line 95, in full_process\n",
      "    string_out = StringProcessor.replace_non_letters_non_numbers_with_whitespace(s)\n",
      "  File \"C:\\ProgramData\\Anaconda3\\lib\\site-packages\\fuzzywuzzy\\string_processing.py\", line 26, in replace_non_letters_non_numbers_with_whitespace\n",
      "    return cls.regex.sub(\" \", a_string)\n",
      "TypeError: expected string or bytes-like object\n",
      "2021-05-08 14:45:17,244 - telegram.ext.dispatcher - ERROR - No error handlers are registered, logging exception.\n",
      "Traceback (most recent call last):\n",
      "  File \"C:\\ProgramData\\Anaconda3\\lib\\site-packages\\telegram\\ext\\dispatcher.py\", line 447, in process_update\n",
      "    handler.handle_update(update, self, check, context)\n",
      "  File \"C:\\ProgramData\\Anaconda3\\lib\\site-packages\\telegram\\ext\\handler.py\", line 160, in handle_update\n",
      "    return self.callback(update, context)\n",
      "  File \"<ipython-input-31-8961cf8a3a31>\", line 3, in vacc_near_me\n",
      "    for x in process.extract(context.args, df_all['address'], limit=2,scorer =partial_token_sort_ratio):\n",
      "  File \"C:\\ProgramData\\Anaconda3\\lib\\site-packages\\fuzzywuzzy\\process.py\", line 168, in extract\n",
      "    return heapq.nlargest(limit, sl, key=lambda i: i[1]) if limit is not None else \\\n",
      "  File \"C:\\ProgramData\\Anaconda3\\lib\\heapq.py\", line 563, in nlargest\n",
      "    result = [(key(elem), i, elem) for i, elem in zip(range(0, -n, -1), it)]\n",
      "  File \"C:\\ProgramData\\Anaconda3\\lib\\heapq.py\", line 563, in <listcomp>\n",
      "    result = [(key(elem), i, elem) for i, elem in zip(range(0, -n, -1), it)]\n",
      "  File \"C:\\ProgramData\\Anaconda3\\lib\\site-packages\\fuzzywuzzy\\process.py\", line 78, in extractWithoutOrder\n",
      "    processed_query = processor(query)\n",
      "  File \"C:\\ProgramData\\Anaconda3\\lib\\site-packages\\fuzzywuzzy\\utils.py\", line 95, in full_process\n",
      "    string_out = StringProcessor.replace_non_letters_non_numbers_with_whitespace(s)\n",
      "  File \"C:\\ProgramData\\Anaconda3\\lib\\site-packages\\fuzzywuzzy\\string_processing.py\", line 26, in replace_non_letters_non_numbers_with_whitespace\n",
      "    return cls.regex.sub(\" \", a_string)\n",
      "TypeError: expected string or bytes-like object\n"
     ]
    }
   ],
   "source": [
    "#Runs the bot\n",
    "updater.start_polling()"
   ]
  },
  {
   "cell_type": "code",
   "execution_count": null,
   "metadata": {},
   "outputs": [],
   "source": []
  }
 ],
 "metadata": {
  "kernelspec": {
   "display_name": "Python 3",
   "language": "python",
   "name": "python3"
  },
  "language_info": {
   "codemirror_mode": {
    "name": "ipython",
    "version": 3
   },
   "file_extension": ".py",
   "mimetype": "text/x-python",
   "name": "python",
   "nbconvert_exporter": "python",
   "pygments_lexer": "ipython3",
   "version": "3.8.3"
  }
 },
 "nbformat": 4,
 "nbformat_minor": 4
}
